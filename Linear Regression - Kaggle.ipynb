{
 "cells": [
  {
   "cell_type": "code",
   "execution_count": 1,
   "metadata": {
    "collapsed": true
   },
   "outputs": [],
   "source": [
    "import pandas as pd\n",
    "import numpy as np\n",
    "import matplotlib.pyplot as plt\n",
    "import seaborn as sns\n",
    "import collections"
   ]
  },
  {
   "cell_type": "code",
   "execution_count": 2,
   "metadata": {},
   "outputs": [],
   "source": [
    "# reading the dataset\n",
    "diamond = pd.read_csv(\"D:/Git/Unicamp/Machine_Learning/Trabalho1/linear_regression/diamonds-train.csv\")"
   ]
  },
  {
   "cell_type": "code",
   "execution_count": 3,
   "metadata": {},
   "outputs": [
    {
     "name": "stdout",
     "output_type": "stream",
     "text": [
      "   carat        cut color clarity     x     y     z  depth  table  price\n0   1.62      Ideal     I     VS2  7.53  7.58  4.69   62.1   55.0  10501\n1   0.30    Premium     G     SI1  4.39  4.35  2.57   58.8   60.0    574\n2   1.37      Ideal     F     VS1  7.28  7.22  4.32   59.6   57.0  11649\n3   0.33       Fair     H    VVS2  4.40  4.32  2.84   65.1   59.0    922\n4   0.32  Very Good     F     VS2  4.43  4.48  2.62   58.8   62.0    602\n"
     ]
    },
    {
     "data": {
      "text/plain": [
       "carat      float64\ncut         object\ncolor       object\nclarity     object\nx          float64\ny          float64\nz          float64\ndepth      float64\ntable      float64\nprice        int64\ndtype: object"
      ]
     },
     "execution_count": 3,
     "metadata": {},
     "output_type": "execute_result"
    }
   ],
   "source": [
    "print(diamond.head())\n",
    "diamond.dtypes"
   ]
  },
  {
   "cell_type": "code",
   "execution_count": 4,
   "metadata": {},
   "outputs": [
    {
     "name": "stdout",
     "output_type": "stream",
     "text": [
      "<class 'pandas.core.frame.DataFrame'>\nRangeIndex: 45849 entries, 0 to 45848\nData columns (total 10 columns):\ncarat      45849 non-null float64\ncut        45849 non-null object\ncolor      45849 non-null object\nclarity    45849 non-null object\nx          45849 non-null float64\ny          45849 non-null float64\nz          45849 non-null float64\ndepth      45849 non-null float64\ntable      45849 non-null float64\nprice      45849 non-null int64\ndtypes: float64(6), int64(1), object(3)\nmemory usage: 3.5+ MB\n"
     ]
    }
   ],
   "source": [
    "diamond.info()"
   ]
  },
  {
   "cell_type": "code",
   "execution_count": 5,
   "metadata": {},
   "outputs": [
    {
     "name": "stdout",
     "output_type": "stream",
     "text": [
      "              carat             x             y             z         depth  \\\ncount  45849.000000  45849.000000  45849.000000  45849.000000  45849.000000   \nmean       0.797698      5.731171      5.734044      3.537613     61.744716   \nstd        0.473863      1.121454      1.140275      0.694809      1.428341   \nmin        0.200000      0.000000      0.000000      0.000000     43.000000   \n25%        0.400000      4.710000      4.720000      2.910000     61.000000   \n50%        0.700000      5.700000      5.710000      3.520000     61.800000   \n75%        1.040000      6.540000      6.540000      4.030000     62.500000   \nmax        5.010000     10.740000     58.900000      8.060000     78.200000   \n\n              table         price  \ncount  45849.000000  45849.000000  \nmean      57.455582   3932.515562  \nstd        2.237592   3990.380545  \nmin       43.000000    326.000000  \n25%       56.000000    950.000000  \n50%       57.000000   2401.000000  \n75%       59.000000   5322.000000  \nmax       95.000000  18823.000000  \n"
     ]
    }
   ],
   "source": [
    "print(diamond.describe())"
   ]
  },
  {
   "cell_type": "code",
   "execution_count": 6,
   "metadata": {},
   "outputs": [],
   "source": [
    "diamond = diamond.drop(diamond.loc[diamond.x <= 0].index)\n",
    "diamond = diamond.drop(diamond.loc[diamond.y <= 0].index)\n",
    "diamond = diamond.drop(diamond.loc[diamond.z <= 0].index)"
   ]
  },
  {
   "cell_type": "code",
   "execution_count": 7,
   "metadata": {},
   "outputs": [],
   "source": [
    "diamond[\"ratio\"] = diamond.x / diamond.y"
   ]
  },
  {
   "cell_type": "code",
   "execution_count": 8,
   "metadata": {},
   "outputs": [
    {
     "data": {
      "image/png": "[encoded data removed]",
      "text/plain": [
       "<matplotlib.figure.Figure at 0xef0eccfe80>"
      ]
     },
     "metadata": {},
     "output_type": "display_data"
    }
   ],
   "source": [
    "#correlation matrix for 15 variables with largest correlation\n",
    "corrmat = diamond.corr()\n",
    "f, ax = plt.subplots(figsize=(12, 9))\n",
    "k = 8 #number of variables for heatmap\n",
    "cols = corrmat.nlargest(k, 'price')['price'].index\n",
    "cm = np.corrcoef(diamond[cols].values.T)\n",
    "\n",
    "# Generate a mask for the upper triangle\n",
    "mask = np.zeros_like(cm, dtype=np.bool)\n",
    "mask[np.triu_indices_from(mask)] = True\n",
    "\n",
    "\n",
    "hm = sns.heatmap(cm, vmax=1, mask=mask, cbar=True, annot=True, square=True, fmt='.2f', annot_kws={'size': 10}, yticklabels=cols.values, xticklabels=cols.values)\n",
    "plt.show()"
   ]
  },
  {
   "cell_type": "code",
   "execution_count": 9,
   "metadata": {},
   "outputs": [],
   "source": [
    "diamond_cut = {'Fair':0,\n",
    "               'Good':1,\n",
    "               'Very Good':2, \n",
    "               'Premium':3,\n",
    "               'Ideal':4}\n",
    "\n",
    "diamond_color = {'J':0,\n",
    "                 'I':1, \n",
    "                 'H':2,\n",
    "                 'G':3,\n",
    "                 'F':4,\n",
    "                 'E':5,\n",
    "                 'D':6}\n",
    "\n",
    "diamond_clarity = {'I1':0,\n",
    "                   'SI2':1,\n",
    "                   'SI1':2,\n",
    "                   'VS2':3,\n",
    "                   'VS1':4,\n",
    "                   'VVS2':5,\n",
    "                   'VVS1':6,\n",
    "                   'IF':7}"
   ]
  },
  {
   "cell_type": "code",
   "execution_count": 10,
   "metadata": {},
   "outputs": [
    {
     "name": "stdout",
     "output_type": "stream",
     "text": [
      "   carat  cut  color  clarity     x     y     z  depth  table  price     ratio\n0   1.62    4      1        3  7.53  7.58  4.69   62.1   55.0  10501  0.993404\n1   0.30    3      3        2  4.39  4.35  2.57   58.8   60.0    574  1.009195\n2   1.37    4      4        4  7.28  7.22  4.32   59.6   57.0  11649  1.008310\n3   0.33    0      2        5  4.40  4.32  2.84   65.1   59.0    922  1.018519\n4   0.32    2      4        3  4.43  4.48  2.62   58.8   62.0    602  0.988839\n              carat          cut         color       clarity             x  \\\ncount  45832.000000  45832.00000  45832.000000  45832.000000  45832.000000   \nmean       0.797442      2.90463      3.411285      3.047870      5.731348   \nstd        0.473642      1.11711      1.701807      1.641954      1.119626   \nmin        0.200000      0.00000      0.000000      0.000000      3.730000   \n25%        0.400000      2.00000      2.000000      2.000000      4.710000   \n50%        0.700000      3.00000      3.000000      3.000000      5.700000   \n75%        1.040000      4.00000      5.000000      4.000000      6.540000   \nmax        5.010000      4.00000      6.000000      7.000000     10.740000   \n\n                  y             z         depth         table         price  \\\ncount  45832.000000  45832.000000  45832.000000  45832.000000  45832.000000   \nmean       5.734093      3.538926     61.744969     57.455315   3930.619174   \nstd        1.138814      0.691588      1.428043      2.237093   3988.272034   \nmin        3.680000      1.070000     43.000000     43.000000    326.000000   \n25%        4.720000      2.910000     61.000000     56.000000    949.000000   \n50%        5.710000      3.520000     61.800000     57.000000   2400.000000   \n75%        6.540000      4.030000     62.500000     59.000000   5321.000000   \nmax       58.900000      8.060000     78.200000     95.000000  18823.000000   \n\n              ratio  \ncount  45832.000000  \nmean       0.999472  \nstd        0.011431  \nmin        0.137351  \n25%        0.992634  \n50%        0.995763  \n75%        1.006961  \nmax        1.615572  \n"
     ]
    }
   ],
   "source": [
    "#Executar uma única vez\n",
    "diamond.cut = diamond.cut.map(diamond_cut);\n",
    "diamond.clarity = diamond.clarity.map(diamond_clarity);\n",
    "diamond.color = diamond.color.map(diamond_color);\n",
    "\n",
    "print(diamond.head())\n",
    "print(diamond.describe())"
   ]
  },
  {
   "cell_type": "code",
   "execution_count": 11,
   "metadata": {},
   "outputs": [],
   "source": [
    "from sklearn.linear_model import LinearRegression, Ridge, Lasso, ElasticNet\n",
    "from sklearn.model_selection import train_test_split\n",
    "from sklearn.model_selection import cross_val_score, KFold\n",
    "from sklearn.metrics import mean_squared_error, r2_score\n",
    "\n",
    "X = diamond.drop(['price'],1)\n",
    "y = diamond['price']\n",
    "X_train, X_test, y_train, y_test = train_test_split(X,y,test_size=0.2)"
   ]
  },
  {
   "cell_type": "code",
   "execution_count": 12,
   "metadata": {},
   "outputs": [],
   "source": [
    "# min max or standard scaler\n",
    "from sklearn.preprocessing import StandardScaler\n",
    "sc = StandardScaler()\n",
    "X_train = sc.fit_transform(X_train)\n",
    "X_test = sc.transform(X_test)"
   ]
  },
  {
   "cell_type": "code",
   "execution_count": 13,
   "metadata": {},
   "outputs": [
    {
     "name": "stdout",
     "output_type": "stream",
     "text": [
      "Linear regression accuracy:  0.910141853452\n[ 0.90833954  0.90910099  0.89960822 -8.0516349   0.90912981]\nmean = -0.8850912663689112, std = 3.5832736175672775\n"
     ]
    },
    {
     "name": "stderr",
     "output_type": "stream",
     "text": [
      "[Parallel(n_jobs=1)]: Done   5 out of   5 | elapsed:    0.1s finished\n"
     ]
    }
   ],
   "source": [
    "classifier = LinearRegression()\n",
    "classifier.fit(X_train,y_train)\n",
    "accuracies = cross_val_score(estimator = classifier, X = X_train, y = y_train, cv = 5,verbose = 1)\n",
    "print('Linear regression accuracy: ', classifier.score(X_test,y_test))\n",
    "print(accuracies)\n",
    "print(\"mean = {0}, std = {1}\".format(np.mean(accuracies), np.std(accuracies)))"
   ]
  },
  {
   "cell_type": "code",
   "execution_count": 33,
   "metadata": {},
   "outputs": [],
   "source": [
    "prediction_Y = classifier.predict(X_test)"
   ]
  },
  {
   "cell_type": "code",
   "execution_count": 34,
   "metadata": {},
   "outputs": [
    {
     "name": "stdout",
     "output_type": "stream",
     "text": [
      "Coefficients: \n [ 5224.31911212   132.70269389   553.7312858    822.66828836  -226.3549127\n   -35.21217437  -821.62148867   -14.79773292   -61.30147559   -78.72427085]\nIntercept: \n 3939.23941088\nMean squared error: 1452116.99\n"
     ]
    }
   ],
   "source": [
    "print('Coefficients: \\n', classifier.coef_)\n",
    "print('Intercept: \\n', classifier.intercept_)\n",
    "print(\"Mean squared error: %.2f\" % mean_squared_error(y_test, prediction_Y))"
   ]
  },
  {
   "cell_type": "code",
   "execution_count": 35,
   "metadata": {},
   "outputs": [],
   "source": []
  },
  {
   "cell_type": "code",
   "execution_count": null,
   "metadata": {},
   "outputs": [],
   "source": []
  }
 ],
 "metadata": {
  "kernelspec": {
   "display_name": "Python 2",
   "language": "python",
   "name": "python2"
  },
  "language_info": {
   "codemirror_mode": {
    "name": "ipython",
    "version": 2
   },
   "file_extension": ".py",
   "mimetype": "text/x-python",
   "name": "python",
   "nbconvert_exporter": "python",
   "pygments_lexer": "ipython2",
   "version": "2.7.6"
  }
 },
 "nbformat": 4,
 "nbformat_minor": 0
}
