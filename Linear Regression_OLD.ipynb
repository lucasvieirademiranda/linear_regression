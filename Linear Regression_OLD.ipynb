{
 "cells": [
  {
   "cell_type": "code",
   "execution_count": 3,
   "metadata": {},
   "outputs": [],
   "source": [
    "import numpy as np\n",
    "from sklearn import linear_model\n",
    "from sklearn.metrics import mean_squared_error"
   ]
  },
  {
   "cell_type": "code",
   "execution_count": 11,
   "metadata": {},
   "outputs": [],
   "source": [
    "training_X = np.array([\n",
    "    [1],\n",
    "    [2],\n",
    "    [3],\n",
    "    [4],\n",
    "    [5],\n",
    "    [6],\n",
    "    [7],\n",
    "    [8],\n",
    "    [9]\n",
    "])\n",
    "\n",
    "training_y = np.array([10, 20, 30, 40, 50, 60, 70, 80, 90])\n",
    "\n",
    "validation_X = np.array([\n",
    "    [10],\n",
    "    [11],\n",
    "    [12],\n",
    "    [13],\n",
    "    [14],\n",
    "    [15],\n",
    "    [16],\n",
    "    [17],\n",
    "    [18],\n",
    "    [19]\n",
    "])\n",
    "\n",
    "validation_y = np.array([100, 110, 120, 130, 140, 150, 160, 170, 180, 190])"
   ]
  },
  {
   "cell_type": "code",
   "execution_count": 12,
   "metadata": {},
   "outputs": [
    {
     "name": "stdout",
     "output_type": "stream",
     "text": [
      "Mean squared error: 0.000000000000000\n",
      "Linear regression accuracy:  1.0\n",
      "[100. 110. 120. 130. 140. 150. 160. 170. 180. 190.]\n"
     ]
    }
   ],
   "source": [
    "r = linear_model.SGDRegressor(max_iter = 1000, \n",
    "                              learning_rate = \"constant\",\n",
    "                              penalty = None, \n",
    "                              fit_intercept = False, \n",
    "                              eta0 = 0.01)\n",
    "\n",
    "r.fit(training_X, training_y)\n",
    "\n",
    "prediction_y = r.predict(validation_X)\n",
    "\n",
    "print(\"Mean squared error: %.15f\" % mean_squared_error(validation_y, prediction_y))\n",
    "print('Linear regression accuracy: ', r.score(validation_X, validation_y))\n",
    "print(prediction_y)"
   ]
  },
  {
   "cell_type": "code",
   "execution_count": 13,
   "metadata": {},
   "outputs": [],
   "source": [
    "class SGDRegressor:\n",
    "    \n",
    "    def __init__(self, max_iteration = 1000, fit_intercept = False, eta0 = 0.01):\n",
    "        \n",
    "        self.max_iteration = max_iteration\n",
    "        self.fit_intercept = fit_intercept\n",
    "        self.eta0 = eta0\n",
    "        \n",
    "    def fit(self, X, y):\n",
    "        \n",
    "        if (self.fit_intercept):\n",
    "            \n",
    "            X = np.insert(X, 0, 1, axis = 1)\n",
    "            \n",
    "            self.thetas = np.zeros(X.shape[1])\n",
    "        \n",
    "        else:\n",
    "            \n",
    "            self.thetas = np.zeros(X.shape[1])\n",
    "            \n",
    "        for iteration in range(self.max_iteration):\n",
    "            \n",
    "            for inputs, targets in zip(X, y):\n",
    "                \n",
    "                outputs = np.dot(self.thetas, inputs)\n",
    "                \n",
    "                self.thetas = self.thetas - (self.eta0 * (outputs - targets) * inputs)\n",
    "                \n",
    "    def predict(self, X):\n",
    "        \n",
    "        outputs = np.array([])\n",
    "        \n",
    "        if (self.fit_intercept):\n",
    "            \n",
    "            X = np.insert(X, 0, 1, axis = 1)\n",
    "        \n",
    "        for inputs in X:\n",
    "            \n",
    "            output = np.dot(self.thetas, inputs)\n",
    "            \n",
    "            outputs = np.append(outputs, [output])\n",
    "        \n",
    "        return outputs\n",
    "    \n",
    "    def score(self, X, y):\n",
    "        \n",
    "        predicted_y = self.predict(X)\n",
    "        \n",
    "        u = ((y - predicted_y) ** 2).sum() \n",
    "        v = ((y - y.mean()) ** 2).sum()\n",
    "        \n",
    "        return (1 - u/v)\n",
    "            \n",
    "        "
   ]
  },
  {
   "cell_type": "code",
   "execution_count": 14,
   "metadata": {},
   "outputs": [
    {
     "name": "stdout",
     "output_type": "stream",
     "text": [
      "Mean squared error: 0.000000000000000\n",
      "Linear regression accuracy:  1.0\n",
      "[100. 110. 120. 130. 140. 150. 160. 170. 180. 190.]\n"
     ]
    }
   ],
   "source": [
    "r = SGDRegressor(max_iteration = 1000, fit_intercept = False, eta0 = 0.01)\n",
    "\n",
    "r.fit(training_X, training_y)\n",
    "\n",
    "prediction_y = r.predict(validation_X)\n",
    "\n",
    "print(\"Mean squared error: %.15f\" % mean_squared_error(validation_y, prediction_y))\n",
    "print('Linear regression accuracy: ', r.score(validation_X, validation_y))\n",
    "print(prediction_y)"
   ]
  },
  {
   "cell_type": "code",
   "execution_count": 16,
   "metadata": {},
   "outputs": [
    {
     "name": "stdout",
     "output_type": "stream",
     "text": [
      "Mean squared error: 0.000000000000000\n",
      "Linear regression accuracy:  1.0\n",
      "[100. 110. 120. 130. 140. 150. 160. 170. 180. 190.]\n"
     ]
    }
   ],
   "source": [
    "r = linear_model.LinearRegression(fit_intercept = False)\n",
    "\n",
    "r.fit(training_X, training_y)\n",
    "\n",
    "prediction_y = r.predict(validation_X)\n",
    "\n",
    "print(\"Mean squared error: %.15f\" % mean_squared_error(validation_y, prediction_y))\n",
    "print('Linear regression accuracy: ', r.score(validation_X, validation_y))\n",
    "print(prediction_y)"
   ]
  },
  {
   "cell_type": "code",
   "execution_count": 17,
   "metadata": {},
   "outputs": [],
   "source": [
    "class LinearRegression:\n",
    "    \n",
    "    def __init__(self, fit_intercept = True):\n",
    "        \n",
    "        self.fit_intercept = fit_intercept\n",
    "    \n",
    "    def fit(self, X, y):\n",
    "        \n",
    "        X_b = X\n",
    "        \n",
    "        if (self.fit_intercept):\n",
    "            X_b = np.insert(X, 0, 1, axis = 1)\n",
    "        \n",
    "        self.thetas = np.linalg.inv(X_b.T.dot(X_b)).dot(X_b.T).dot(y)\n",
    "    \n",
    "    def predict(self, X):\n",
    "        \n",
    "        outputs = np.array([])\n",
    "        \n",
    "        if (self.fit_intercept):\n",
    "            \n",
    "            X = np.insert(X, 0, 1, axis = 1)\n",
    "        \n",
    "        for inputs in X:\n",
    "            \n",
    "            output = np.dot(self.thetas, inputs)\n",
    "            \n",
    "            outputs = np.append(outputs, [output])\n",
    "        \n",
    "        return outputs\n",
    "        \n",
    "    def score(self, X, y):\n",
    "        \n",
    "        predicted_y = self.predict(X)\n",
    "        \n",
    "        u = ((y - predicted_y) ** 2).sum() \n",
    "        v = ((y - y.mean()) ** 2).sum()\n",
    "        \n",
    "        return (1 - u/v)\n",
    "        \n",
    "        "
   ]
  },
  {
   "cell_type": "code",
   "execution_count": 18,
   "metadata": {},
   "outputs": [
    {
     "name": "stdout",
     "output_type": "stream",
     "text": [
      "Mean squared error: 0.000000000000000\n",
      "Linear regression accuracy:  1.0\n",
      "[100. 110. 120. 130. 140. 150. 160. 170. 180. 190.]\n"
     ]
    }
   ],
   "source": [
    "r = LinearRegression(fit_intercept = False)\n",
    "\n",
    "r.fit(training_X, training_y)\n",
    "\n",
    "prediction_y = r.predict(validation_X)\n",
    "\n",
    "print(\"Mean squared error: %.15f\" % mean_squared_error(validation_y, prediction_y))\n",
    "print('Linear regression accuracy: ', r.score(validation_X, validation_y))\n",
    "print(prediction_y)"
   ]
  },
  {
   "cell_type": "code",
   "execution_count": null,
   "metadata": {},
   "outputs": [],
   "source": []
  }
 ],
 "metadata": {
  "kernelspec": {
   "display_name": "Python 3",
   "language": "python",
   "name": "python3"
  },
  "language_info": {
   "codemirror_mode": {
    "name": "ipython",
    "version": 3
   },
   "file_extension": ".py",
   "mimetype": "text/x-python",
   "name": "python",
   "nbconvert_exporter": "python",
   "pygments_lexer": "ipython3",
   "version": "3.5.5"
  }
 },
 "nbformat": 4,
 "nbformat_minor": 2
}
