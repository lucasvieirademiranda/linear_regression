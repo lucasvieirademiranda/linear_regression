{
 "cells": [
  {
   "cell_type": "code",
   "execution_count": 1,
   "metadata": {},
   "outputs": [],
   "source": [
    "import sys\n",
    "import io\n",
    "\n",
    "import numpy as np\n",
    "import pandas as pd\n",
    "import seaborn as sns\n",
    "import matplotlib.pyplot as plt\n",
    "\n",
    "from copy import deepcopy\n",
    "from pandas.plotting import scatter_matrix\n",
    "\n",
    "from sklearn import linear_model\n",
    "from sklearn.metrics import mean_squared_error"
   ]
  },
  {
   "cell_type": "markdown",
   "metadata": {},
   "source": [
    "Read diamond data"
   ]
  },
  {
   "cell_type": "code",
   "execution_count": 2,
   "metadata": {},
   "outputs": [],
   "source": [
    "file_path = './diamonds-train.csv'\n",
    "\n",
    "# Total Data 45849 Rows\n",
    "df = pd.read_csv(file_path)"
   ]
  },
  {
   "cell_type": "code",
   "execution_count": 3,
   "metadata": {},
   "outputs": [
    {
     "data": {
      "text/html": [
       "<div>\n",
       "<style scoped>\n",
       "    .dataframe tbody tr th:only-of-type {\n",
       "        vertical-align: middle;\n",
       "    }\n",
       "\n",
       "    .dataframe tbody tr th {\n",
       "        vertical-align: top;\n",
       "    }\n",
       "\n",
       "    .dataframe thead th {\n",
       "        text-align: right;\n",
       "    }\n",
       "</style>\n",
       "<table border=\"1\" class=\"dataframe\">\n",
       "  <thead>\n",
       "    <tr style=\"text-align: right;\">\n",
       "      <th></th>\n",
       "      <th>carat</th>\n",
       "      <th>cut</th>\n",
       "      <th>color</th>\n",
       "      <th>clarity</th>\n",
       "      <th>x</th>\n",
       "      <th>y</th>\n",
       "      <th>z</th>\n",
       "      <th>depth</th>\n",
       "      <th>table</th>\n",
       "      <th>price</th>\n",
       "    </tr>\n",
       "  </thead>\n",
       "  <tbody>\n",
       "    <tr>\n",
       "      <th>0</th>\n",
       "      <td>1.62</td>\n",
       "      <td>Ideal</td>\n",
       "      <td>I</td>\n",
       "      <td>VS2</td>\n",
       "      <td>7.53</td>\n",
       "      <td>7.58</td>\n",
       "      <td>4.69</td>\n",
       "      <td>62.1</td>\n",
       "      <td>55.0</td>\n",
       "      <td>10501</td>\n",
       "    </tr>\n",
       "    <tr>\n",
       "      <th>1</th>\n",
       "      <td>0.30</td>\n",
       "      <td>Premium</td>\n",
       "      <td>G</td>\n",
       "      <td>SI1</td>\n",
       "      <td>4.39</td>\n",
       "      <td>4.35</td>\n",
       "      <td>2.57</td>\n",
       "      <td>58.8</td>\n",
       "      <td>60.0</td>\n",
       "      <td>574</td>\n",
       "    </tr>\n",
       "    <tr>\n",
       "      <th>2</th>\n",
       "      <td>1.37</td>\n",
       "      <td>Ideal</td>\n",
       "      <td>F</td>\n",
       "      <td>VS1</td>\n",
       "      <td>7.28</td>\n",
       "      <td>7.22</td>\n",
       "      <td>4.32</td>\n",
       "      <td>59.6</td>\n",
       "      <td>57.0</td>\n",
       "      <td>11649</td>\n",
       "    </tr>\n",
       "    <tr>\n",
       "      <th>3</th>\n",
       "      <td>0.33</td>\n",
       "      <td>Fair</td>\n",
       "      <td>H</td>\n",
       "      <td>VVS2</td>\n",
       "      <td>4.40</td>\n",
       "      <td>4.32</td>\n",
       "      <td>2.84</td>\n",
       "      <td>65.1</td>\n",
       "      <td>59.0</td>\n",
       "      <td>922</td>\n",
       "    </tr>\n",
       "    <tr>\n",
       "      <th>4</th>\n",
       "      <td>0.32</td>\n",
       "      <td>Very Good</td>\n",
       "      <td>F</td>\n",
       "      <td>VS2</td>\n",
       "      <td>4.43</td>\n",
       "      <td>4.48</td>\n",
       "      <td>2.62</td>\n",
       "      <td>58.8</td>\n",
       "      <td>62.0</td>\n",
       "      <td>602</td>\n",
       "    </tr>\n",
       "    <tr>\n",
       "      <th>5</th>\n",
       "      <td>0.51</td>\n",
       "      <td>Premium</td>\n",
       "      <td>E</td>\n",
       "      <td>SI2</td>\n",
       "      <td>5.15</td>\n",
       "      <td>5.12</td>\n",
       "      <td>3.22</td>\n",
       "      <td>62.7</td>\n",
       "      <td>52.0</td>\n",
       "      <td>1205</td>\n",
       "    </tr>\n",
       "    <tr>\n",
       "      <th>6</th>\n",
       "      <td>1.50</td>\n",
       "      <td>Good</td>\n",
       "      <td>H</td>\n",
       "      <td>VS2</td>\n",
       "      <td>7.22</td>\n",
       "      <td>7.27</td>\n",
       "      <td>4.61</td>\n",
       "      <td>63.6</td>\n",
       "      <td>58.0</td>\n",
       "      <td>10291</td>\n",
       "    </tr>\n",
       "    <tr>\n",
       "      <th>7</th>\n",
       "      <td>0.85</td>\n",
       "      <td>Ideal</td>\n",
       "      <td>G</td>\n",
       "      <td>VS1</td>\n",
       "      <td>6.09</td>\n",
       "      <td>6.11</td>\n",
       "      <td>3.77</td>\n",
       "      <td>61.8</td>\n",
       "      <td>55.0</td>\n",
       "      <td>4373</td>\n",
       "    </tr>\n",
       "    <tr>\n",
       "      <th>8</th>\n",
       "      <td>0.33</td>\n",
       "      <td>Ideal</td>\n",
       "      <td>F</td>\n",
       "      <td>VS1</td>\n",
       "      <td>4.46</td>\n",
       "      <td>4.49</td>\n",
       "      <td>2.74</td>\n",
       "      <td>61.2</td>\n",
       "      <td>56.0</td>\n",
       "      <td>723</td>\n",
       "    </tr>\n",
       "    <tr>\n",
       "      <th>9</th>\n",
       "      <td>1.10</td>\n",
       "      <td>Ideal</td>\n",
       "      <td>G</td>\n",
       "      <td>VS1</td>\n",
       "      <td>6.69</td>\n",
       "      <td>6.65</td>\n",
       "      <td>4.09</td>\n",
       "      <td>61.3</td>\n",
       "      <td>54.0</td>\n",
       "      <td>6535</td>\n",
       "    </tr>\n",
       "  </tbody>\n",
       "</table>\n",
       "</div>"
      ],
      "text/plain": [
       "   carat        cut color clarity     x     y     z  depth  table  price\n",
       "0   1.62      Ideal     I     VS2  7.53  7.58  4.69   62.1   55.0  10501\n",
       "1   0.30    Premium     G     SI1  4.39  4.35  2.57   58.8   60.0    574\n",
       "2   1.37      Ideal     F     VS1  7.28  7.22  4.32   59.6   57.0  11649\n",
       "3   0.33       Fair     H    VVS2  4.40  4.32  2.84   65.1   59.0    922\n",
       "4   0.32  Very Good     F     VS2  4.43  4.48  2.62   58.8   62.0    602\n",
       "5   0.51    Premium     E     SI2  5.15  5.12  3.22   62.7   52.0   1205\n",
       "6   1.50       Good     H     VS2  7.22  7.27  4.61   63.6   58.0  10291\n",
       "7   0.85      Ideal     G     VS1  6.09  6.11  3.77   61.8   55.0   4373\n",
       "8   0.33      Ideal     F     VS1  4.46  4.49  2.74   61.2   56.0    723\n",
       "9   1.10      Ideal     G     VS1  6.69  6.65  4.09   61.3   54.0   6535"
      ]
     },
     "execution_count": 3,
     "metadata": {},
     "output_type": "execute_result"
    }
   ],
   "source": [
    "df.head(10)"
   ]
  },
  {
   "cell_type": "code",
   "execution_count": 4,
   "metadata": {},
   "outputs": [
    {
     "name": "stdout",
     "output_type": "stream",
     "text": [
      "<class 'pandas.core.frame.DataFrame'>\n",
      "RangeIndex: 45849 entries, 0 to 45848\n",
      "Data columns (total 10 columns):\n",
      "carat      45849 non-null float64\n",
      "cut        45849 non-null object\n",
      "color      45849 non-null object\n",
      "clarity    45849 non-null object\n",
      "x          45849 non-null float64\n",
      "y          45849 non-null float64\n",
      "z          45849 non-null float64\n",
      "depth      45849 non-null float64\n",
      "table      45849 non-null float64\n",
      "price      45849 non-null int64\n",
      "dtypes: float64(6), int64(1), object(3)\n",
      "memory usage: 3.5+ MB\n"
     ]
    }
   ],
   "source": [
    "df.info()"
   ]
  },
  {
   "cell_type": "code",
   "execution_count": 5,
   "metadata": {
    "scrolled": true
   },
   "outputs": [
    {
     "data": {
      "text/html": [
       "<div>\n",
       "<style scoped>\n",
       "    .dataframe tbody tr th:only-of-type {\n",
       "        vertical-align: middle;\n",
       "    }\n",
       "\n",
       "    .dataframe tbody tr th {\n",
       "        vertical-align: top;\n",
       "    }\n",
       "\n",
       "    .dataframe thead th {\n",
       "        text-align: right;\n",
       "    }\n",
       "</style>\n",
       "<table border=\"1\" class=\"dataframe\">\n",
       "  <thead>\n",
       "    <tr style=\"text-align: right;\">\n",
       "      <th></th>\n",
       "      <th>carat</th>\n",
       "      <th>x</th>\n",
       "      <th>y</th>\n",
       "      <th>z</th>\n",
       "      <th>depth</th>\n",
       "      <th>table</th>\n",
       "      <th>price</th>\n",
       "    </tr>\n",
       "  </thead>\n",
       "  <tbody>\n",
       "    <tr>\n",
       "      <th>count</th>\n",
       "      <td>45849.000000</td>\n",
       "      <td>45849.000000</td>\n",
       "      <td>45849.000000</td>\n",
       "      <td>45849.000000</td>\n",
       "      <td>45849.000000</td>\n",
       "      <td>45849.000000</td>\n",
       "      <td>45849.000000</td>\n",
       "    </tr>\n",
       "    <tr>\n",
       "      <th>mean</th>\n",
       "      <td>0.797698</td>\n",
       "      <td>5.731171</td>\n",
       "      <td>5.734044</td>\n",
       "      <td>3.537613</td>\n",
       "      <td>61.744716</td>\n",
       "      <td>57.455582</td>\n",
       "      <td>3932.515562</td>\n",
       "    </tr>\n",
       "    <tr>\n",
       "      <th>std</th>\n",
       "      <td>0.473863</td>\n",
       "      <td>1.121454</td>\n",
       "      <td>1.140275</td>\n",
       "      <td>0.694809</td>\n",
       "      <td>1.428341</td>\n",
       "      <td>2.237592</td>\n",
       "      <td>3990.380545</td>\n",
       "    </tr>\n",
       "    <tr>\n",
       "      <th>min</th>\n",
       "      <td>0.200000</td>\n",
       "      <td>0.000000</td>\n",
       "      <td>0.000000</td>\n",
       "      <td>0.000000</td>\n",
       "      <td>43.000000</td>\n",
       "      <td>43.000000</td>\n",
       "      <td>326.000000</td>\n",
       "    </tr>\n",
       "    <tr>\n",
       "      <th>25%</th>\n",
       "      <td>0.400000</td>\n",
       "      <td>4.710000</td>\n",
       "      <td>4.720000</td>\n",
       "      <td>2.910000</td>\n",
       "      <td>61.000000</td>\n",
       "      <td>56.000000</td>\n",
       "      <td>950.000000</td>\n",
       "    </tr>\n",
       "    <tr>\n",
       "      <th>50%</th>\n",
       "      <td>0.700000</td>\n",
       "      <td>5.700000</td>\n",
       "      <td>5.710000</td>\n",
       "      <td>3.520000</td>\n",
       "      <td>61.800000</td>\n",
       "      <td>57.000000</td>\n",
       "      <td>2401.000000</td>\n",
       "    </tr>\n",
       "    <tr>\n",
       "      <th>75%</th>\n",
       "      <td>1.040000</td>\n",
       "      <td>6.540000</td>\n",
       "      <td>6.540000</td>\n",
       "      <td>4.030000</td>\n",
       "      <td>62.500000</td>\n",
       "      <td>59.000000</td>\n",
       "      <td>5322.000000</td>\n",
       "    </tr>\n",
       "    <tr>\n",
       "      <th>max</th>\n",
       "      <td>5.010000</td>\n",
       "      <td>10.740000</td>\n",
       "      <td>58.900000</td>\n",
       "      <td>8.060000</td>\n",
       "      <td>78.200000</td>\n",
       "      <td>95.000000</td>\n",
       "      <td>18823.000000</td>\n",
       "    </tr>\n",
       "  </tbody>\n",
       "</table>\n",
       "</div>"
      ],
      "text/plain": [
       "              carat             x             y             z         depth  \\\n",
       "count  45849.000000  45849.000000  45849.000000  45849.000000  45849.000000   \n",
       "mean       0.797698      5.731171      5.734044      3.537613     61.744716   \n",
       "std        0.473863      1.121454      1.140275      0.694809      1.428341   \n",
       "min        0.200000      0.000000      0.000000      0.000000     43.000000   \n",
       "25%        0.400000      4.710000      4.720000      2.910000     61.000000   \n",
       "50%        0.700000      5.700000      5.710000      3.520000     61.800000   \n",
       "75%        1.040000      6.540000      6.540000      4.030000     62.500000   \n",
       "max        5.010000     10.740000     58.900000      8.060000     78.200000   \n",
       "\n",
       "              table         price  \n",
       "count  45849.000000  45849.000000  \n",
       "mean      57.455582   3932.515562  \n",
       "std        2.237592   3990.380545  \n",
       "min       43.000000    326.000000  \n",
       "25%       56.000000    950.000000  \n",
       "50%       57.000000   2401.000000  \n",
       "75%       59.000000   5322.000000  \n",
       "max       95.000000  18823.000000  "
      ]
     },
     "execution_count": 5,
     "metadata": {},
     "output_type": "execute_result"
    }
   ],
   "source": [
    "df.describe()"
   ]
  },
  {
   "cell_type": "code",
   "execution_count": 6,
   "metadata": {},
   "outputs": [],
   "source": [
    "# Remove record where x or y or z are equal 0\n",
    "\n",
    "df = df.drop(df[df.x == 0].index)\n",
    "df = df.drop(df[df.y == 0].index)\n",
    "df = df.drop(df[df.z == 0].index)"
   ]
  },
  {
   "cell_type": "code",
   "execution_count": 7,
   "metadata": {},
   "outputs": [
    {
     "data": {
      "text/plain": [
       "<matplotlib.axes._subplots.AxesSubplot at 0x1e7818ec7b8>"
      ]
     },
     "execution_count": 7,
     "metadata": {},
     "output_type": "execute_result"
    },
    {
     "data": {
      "image/png": "[encoded data removed]",
      "text/plain": [
       "<Figure size 432x288 with 2 Axes>"
      ]
     },
     "metadata": {},
     "output_type": "display_data"
    }
   ],
   "source": [
    "correlation = df.corr()\n",
    "sns.heatmap(data = correlation, square = True , annot = True, cbar = True)"
   ]
  },
  {
   "cell_type": "code",
   "execution_count": 8,
   "metadata": {},
   "outputs": [
    {
     "data": {
      "image/png": "[encoded data removed]",
      "text/plain": [
       "<Figure size 432x288 with 49 Axes>"
      ]
     },
     "metadata": {},
     "output_type": "display_data"
    }
   ],
   "source": [
    "scatter_matrix(df, diagonal = 'kde')\n",
    "plt.grid()\n",
    "plt.show()"
   ]
  },
  {
   "cell_type": "code",
   "execution_count": 11,
   "metadata": {},
   "outputs": [],
   "source": [
    "diamond_cut = {'Fair':0,\n",
    "               'Good':1,\n",
    "               'Very Good':2, \n",
    "               'Premium':3,\n",
    "               'Ideal':4}\n",
    "\n",
    "diamond_color = {'J':0,\n",
    "                 'I':1, \n",
    "                 'H':2,\n",
    "                 'G':3,\n",
    "                 'F':4,\n",
    "                 'E':5,\n",
    "                 'D':6}\n",
    "\n",
    "diamond_clarity = {'I1':0,\n",
    "                   'SI2':1,\n",
    "                   'SI1':2,\n",
    "                   'VS2':3,\n",
    "                   'VS1':4,\n",
    "                   'VVS2':5,\n",
    "                   'VVS1':6,\n",
    "                   'IF':7}\n",
    "\n",
    "#df.cut = df.cut.map(diamond_cut);\n",
    "#df.clarity = df.clarity.map(diamond_clarity);\n",
    "#df.color = df.color.map(diamond_color);"
   ]
  },
  {
   "cell_type": "markdown",
   "metadata": {},
   "source": [
    "Executes One-Hot Encoding on categorical features like cut, color and clarity."
   ]
  },
  {
   "cell_type": "code",
   "execution_count": 13,
   "metadata": {},
   "outputs": [],
   "source": [
    "columns = ['cut','color','clarity']\n",
    "\n",
    "df = pd.get_dummies(df, columns = columns, prefix = columns)"
   ]
  },
  {
   "cell_type": "code",
   "execution_count": 14,
   "metadata": {},
   "outputs": [],
   "source": [
    "features_df = df.drop(labels=['price'], axis=1)\n",
    "\n",
    "features_df = features_df\n",
    "targets_df = df.price"
   ]
  },
  {
   "cell_type": "markdown",
   "metadata": {},
   "source": [
    "Feature Normalization\n",
    "\n",
    "The Mean Squared Error (MSE) cost function for a Linear Regression model happens to be a convex function, which means that if you pick any two points on the curve, the line segment joining them never crosses the curve. This implies that there are no local minima, just one global minimum. It is also a continuous function with a slope that never changes abruptly.4 These two facts have a great consequence: Gradient Descent is guaranteed to approach arbitrarily close the global minimum (if you wait long enough and if the learning rate is not too high).\n",
    "\n",
    "In fact, the cost function has the shape of a bowl, but it can be an elongated bowl if the features have very different scales.\n",
    "\n",
    "WARNING:\n",
    "\n",
    "When using Gradient Descent, you should ensure that all features have a similar scale, or else it will take much longer to converge."
   ]
  },
  {
   "cell_type": "code",
   "execution_count": 15,
   "metadata": {},
   "outputs": [
    {
     "data": {
      "text/html": [
       "<div>\n",
       "<style scoped>\n",
       "    .dataframe tbody tr th:only-of-type {\n",
       "        vertical-align: middle;\n",
       "    }\n",
       "\n",
       "    .dataframe tbody tr th {\n",
       "        vertical-align: top;\n",
       "    }\n",
       "\n",
       "    .dataframe thead th {\n",
       "        text-align: right;\n",
       "    }\n",
       "</style>\n",
       "<table border=\"1\" class=\"dataframe\">\n",
       "  <thead>\n",
       "    <tr style=\"text-align: right;\">\n",
       "      <th></th>\n",
       "      <th>carat</th>\n",
       "      <th>x</th>\n",
       "      <th>y</th>\n",
       "      <th>z</th>\n",
       "      <th>depth</th>\n",
       "      <th>table</th>\n",
       "      <th>cut_Fair</th>\n",
       "      <th>cut_Good</th>\n",
       "      <th>cut_Ideal</th>\n",
       "      <th>cut_Premium</th>\n",
       "      <th>...</th>\n",
       "      <th>color_I</th>\n",
       "      <th>color_J</th>\n",
       "      <th>clarity_I1</th>\n",
       "      <th>clarity_IF</th>\n",
       "      <th>clarity_SI1</th>\n",
       "      <th>clarity_SI2</th>\n",
       "      <th>clarity_VS1</th>\n",
       "      <th>clarity_VS2</th>\n",
       "      <th>clarity_VVS1</th>\n",
       "      <th>clarity_VVS2</th>\n",
       "    </tr>\n",
       "  </thead>\n",
       "  <tbody>\n",
       "    <tr>\n",
       "      <th>0</th>\n",
       "      <td>0.295218</td>\n",
       "      <td>0.542083</td>\n",
       "      <td>0.070627</td>\n",
       "      <td>0.517883</td>\n",
       "      <td>0.542614</td>\n",
       "      <td>0.230769</td>\n",
       "      <td>0.0</td>\n",
       "      <td>0.0</td>\n",
       "      <td>1.0</td>\n",
       "      <td>0.0</td>\n",
       "      <td>...</td>\n",
       "      <td>1.0</td>\n",
       "      <td>0.0</td>\n",
       "      <td>0.0</td>\n",
       "      <td>0.0</td>\n",
       "      <td>0.0</td>\n",
       "      <td>0.0</td>\n",
       "      <td>0.0</td>\n",
       "      <td>1.0</td>\n",
       "      <td>0.0</td>\n",
       "      <td>0.0</td>\n",
       "    </tr>\n",
       "    <tr>\n",
       "      <th>1</th>\n",
       "      <td>0.020790</td>\n",
       "      <td>0.094151</td>\n",
       "      <td>0.012133</td>\n",
       "      <td>0.214592</td>\n",
       "      <td>0.448864</td>\n",
       "      <td>0.326923</td>\n",
       "      <td>0.0</td>\n",
       "      <td>0.0</td>\n",
       "      <td>0.0</td>\n",
       "      <td>1.0</td>\n",
       "      <td>...</td>\n",
       "      <td>0.0</td>\n",
       "      <td>0.0</td>\n",
       "      <td>0.0</td>\n",
       "      <td>0.0</td>\n",
       "      <td>1.0</td>\n",
       "      <td>0.0</td>\n",
       "      <td>0.0</td>\n",
       "      <td>0.0</td>\n",
       "      <td>0.0</td>\n",
       "      <td>0.0</td>\n",
       "    </tr>\n",
       "    <tr>\n",
       "      <th>2</th>\n",
       "      <td>0.243243</td>\n",
       "      <td>0.506419</td>\n",
       "      <td>0.064107</td>\n",
       "      <td>0.464950</td>\n",
       "      <td>0.471591</td>\n",
       "      <td>0.269231</td>\n",
       "      <td>0.0</td>\n",
       "      <td>0.0</td>\n",
       "      <td>1.0</td>\n",
       "      <td>0.0</td>\n",
       "      <td>...</td>\n",
       "      <td>0.0</td>\n",
       "      <td>0.0</td>\n",
       "      <td>0.0</td>\n",
       "      <td>0.0</td>\n",
       "      <td>0.0</td>\n",
       "      <td>0.0</td>\n",
       "      <td>1.0</td>\n",
       "      <td>0.0</td>\n",
       "      <td>0.0</td>\n",
       "      <td>0.0</td>\n",
       "    </tr>\n",
       "    <tr>\n",
       "      <th>3</th>\n",
       "      <td>0.027027</td>\n",
       "      <td>0.095578</td>\n",
       "      <td>0.011590</td>\n",
       "      <td>0.253219</td>\n",
       "      <td>0.627841</td>\n",
       "      <td>0.307692</td>\n",
       "      <td>1.0</td>\n",
       "      <td>0.0</td>\n",
       "      <td>0.0</td>\n",
       "      <td>0.0</td>\n",
       "      <td>...</td>\n",
       "      <td>0.0</td>\n",
       "      <td>0.0</td>\n",
       "      <td>0.0</td>\n",
       "      <td>0.0</td>\n",
       "      <td>0.0</td>\n",
       "      <td>0.0</td>\n",
       "      <td>0.0</td>\n",
       "      <td>0.0</td>\n",
       "      <td>0.0</td>\n",
       "      <td>1.0</td>\n",
       "    </tr>\n",
       "    <tr>\n",
       "      <th>4</th>\n",
       "      <td>0.024948</td>\n",
       "      <td>0.099857</td>\n",
       "      <td>0.014488</td>\n",
       "      <td>0.221745</td>\n",
       "      <td>0.448864</td>\n",
       "      <td>0.365385</td>\n",
       "      <td>0.0</td>\n",
       "      <td>0.0</td>\n",
       "      <td>0.0</td>\n",
       "      <td>0.0</td>\n",
       "      <td>...</td>\n",
       "      <td>0.0</td>\n",
       "      <td>0.0</td>\n",
       "      <td>0.0</td>\n",
       "      <td>0.0</td>\n",
       "      <td>0.0</td>\n",
       "      <td>0.0</td>\n",
       "      <td>0.0</td>\n",
       "      <td>1.0</td>\n",
       "      <td>0.0</td>\n",
       "      <td>0.0</td>\n",
       "    </tr>\n",
       "  </tbody>\n",
       "</table>\n",
       "<p>5 rows × 26 columns</p>\n",
       "</div>"
      ],
      "text/plain": [
       "      carat         x         y         z     depth     table  cut_Fair  \\\n",
       "0  0.295218  0.542083  0.070627  0.517883  0.542614  0.230769       0.0   \n",
       "1  0.020790  0.094151  0.012133  0.214592  0.448864  0.326923       0.0   \n",
       "2  0.243243  0.506419  0.064107  0.464950  0.471591  0.269231       0.0   \n",
       "3  0.027027  0.095578  0.011590  0.253219  0.627841  0.307692       1.0   \n",
       "4  0.024948  0.099857  0.014488  0.221745  0.448864  0.365385       0.0   \n",
       "\n",
       "   cut_Good  cut_Ideal  cut_Premium      ...       color_I  color_J  \\\n",
       "0       0.0        1.0          0.0      ...           1.0      0.0   \n",
       "1       0.0        0.0          1.0      ...           0.0      0.0   \n",
       "2       0.0        1.0          0.0      ...           0.0      0.0   \n",
       "3       0.0        0.0          0.0      ...           0.0      0.0   \n",
       "4       0.0        0.0          0.0      ...           0.0      0.0   \n",
       "\n",
       "   clarity_I1  clarity_IF  clarity_SI1  clarity_SI2  clarity_VS1  clarity_VS2  \\\n",
       "0         0.0         0.0          0.0          0.0          0.0          1.0   \n",
       "1         0.0         0.0          1.0          0.0          0.0          0.0   \n",
       "2         0.0         0.0          0.0          0.0          1.0          0.0   \n",
       "3         0.0         0.0          0.0          0.0          0.0          0.0   \n",
       "4         0.0         0.0          0.0          0.0          0.0          1.0   \n",
       "\n",
       "   clarity_VVS1  clarity_VVS2  \n",
       "0           0.0           0.0  \n",
       "1           0.0           0.0  \n",
       "2           0.0           0.0  \n",
       "3           0.0           1.0  \n",
       "4           0.0           0.0  \n",
       "\n",
       "[5 rows x 26 columns]"
      ]
     },
     "execution_count": 15,
     "metadata": {},
     "output_type": "execute_result"
    }
   ],
   "source": [
    "# Min-Max Normalization\n",
    "features_df = (features_df - features_df.min()) / (features_df.max() - features_df.min())\n",
    "\n",
    "# Mean Normalization\n",
    "#features_df = (features_df - features_df.mean()) /  (features_df.max() - features_df.min())\n",
    "\n",
    "#print(\"Min:\")\n",
    "#print(features_df.min())\n",
    "#print(\"Max:\")\n",
    "#print(features_df.max())\n",
    "\n",
    "features_df.head()"
   ]
  },
  {
   "cell_type": "markdown",
   "metadata": {},
   "source": [
    "Split data in training set and validation set"
   ]
  },
  {
   "cell_type": "code",
   "execution_count": 16,
   "metadata": {},
   "outputs": [],
   "source": [
    "training_set_size = 0.8 # (0 to 1)\n",
    "\n",
    "training_size = round(features_df.shape[0] * training_set_size)\n",
    "\n",
    "training_X = features_df.values[:training_size]\n",
    "validation_X = features_df.values[training_size:]\n",
    "\n",
    "training_Y = targets_df.values[:training_size]\n",
    "validation_Y = targets_df.values[training_size:]"
   ]
  },
  {
   "cell_type": "code",
   "execution_count": 26,
   "metadata": {},
   "outputs": [
    {
     "name": "stdout",
     "output_type": "stream",
     "text": [
      "Best Epoch: [3512, 1999242.2727900976]\n"
     ]
    },
    {
     "data": {
      "image/png": "[encoded data removed]",
      "text/plain": [
       "<Figure size 432x288 with 1 Axes>"
      ]
     },
     "metadata": {},
     "output_type": "display_data"
    }
   ],
   "source": [
    "total_epoch = 10000\n",
    "\n",
    "epochs = []\n",
    "\n",
    "regressor = linear_model.SGDRegressor(loss = \"squared_loss\", \n",
    "                                      max_iter = 1, \n",
    "                                      fit_intercept = True,\n",
    "                                      learning_rate = \"constant\",\n",
    "                                      penalty = None,\n",
    "                                      eta0 = 0.01)\n",
    "\n",
    "select = float('inf')\n",
    "best_epoch = None\n",
    "best_model = None\n",
    "\n",
    "for epoch in range(total_epoch):\n",
    "    \n",
    "    regressor.fit(training_X, training_Y)\n",
    "    prediction_Y = regressor.predict(validation_X)\n",
    "    mse = mean_squared_error(validation_Y, prediction_Y)\n",
    "    \n",
    "    if(mse < select):\n",
    "        \n",
    "        select = mse\n",
    "        best_epoch = [epoch, mse]\n",
    "        best_model = deepcopy(regressor)\n",
    "    \n",
    "    epochs.append([epoch, mse])\n",
    "\n",
    "print(\"Best Epoch: \" + str(best_epoch))\n",
    "    \n",
    "epoch_df = pd.DataFrame(data = epochs, columns = ['Epoch', 'Cost'])\n",
    "\n",
    "plt.plot(epoch_df['Epoch'], epoch_df['Cost'], linewidth = 1.0, color = 'blue')\n",
    "\n",
    "plt.xlabel('Epochs')\n",
    "plt.ylabel('Cost')\n",
    "\n",
    "plt.show()"
   ]
  },
  {
   "cell_type": "code",
   "execution_count": 27,
   "metadata": {},
   "outputs": [],
   "source": [
    "prediction_Y = best_model.predict(validation_X)"
   ]
  },
  {
   "cell_type": "code",
   "execution_count": 28,
   "metadata": {},
   "outputs": [
    {
     "name": "stdout",
     "output_type": "stream",
     "text": [
      "Coefficients: \n",
      " [13831.25094279 12433.24206866  1600.54484102  7438.93445396\n",
      "  -638.09424724  -877.2441189  -1082.93663969  -625.34107896\n",
      "  -265.6506035   -293.3372261   -385.82783821   355.71973372\n",
      "   137.45274369    41.23993946  -156.25645331  -546.19944531\n",
      "  -839.07428357 -1645.97562115 -3791.49628757  1226.94644497\n",
      "  -686.79269283 -1570.92873094   310.16966529    28.38201307\n",
      "  1021.01091479   809.61528675]\n",
      "Intercept: \n",
      " [-2653.09338646]\n",
      "Mean squared error: 1999242.27\n",
      "Linear regression accuracy:  0.8763265165136687\n"
     ]
    }
   ],
   "source": [
    "print('Coefficients: \\n', best_model.coef_)\n",
    "print('Intercept: \\n', best_model.intercept_)\n",
    "print(\"Mean squared error: %.2f\" % mean_squared_error(validation_Y, prediction_Y))\n",
    "print('Linear regression accuracy: ', best_model.score(validation_X, validation_Y))"
   ]
  },
  {
   "cell_type": "code",
   "execution_count": 29,
   "metadata": {},
   "outputs": [
    {
     "data": {
      "image/png": "[encoded data removed]",
      "text/plain": [
       "<Figure size 432x288 with 1 Axes>"
      ]
     },
     "metadata": {},
     "output_type": "display_data"
    }
   ],
   "source": [
    "plt.scatter(training_X[:, 0:1], training_Y, color = 'gray')\n",
    "plt.scatter(validation_X[:, 0:1], validation_Y, color = 'black')\n",
    "plt.plot(validation_X[:, 0:1], prediction_Y, color = 'blue', linewidth = 1)\n",
    "\n",
    "plt.xticks()\n",
    "plt.yticks()\n",
    "\n",
    "plt.show()"
   ]
  },
  {
   "cell_type": "code",
   "execution_count": 23,
   "metadata": {},
   "outputs": [
    {
     "data": {
      "text/plain": [
       "array([4736., 6952., 1052., ...,   44., 3948., 3928.])"
      ]
     },
     "execution_count": 23,
     "metadata": {},
     "output_type": "execute_result"
    }
   ],
   "source": [
    "regressor = linear_model.LinearRegression(fit_intercept = True)\n",
    "\n",
    "regressor.fit(training_X, training_Y)\n",
    "\n",
    "prediction_Y = regressor.predict(validation_X)\n",
    "\n",
    "prediction_Y"
   ]
  },
  {
   "cell_type": "code",
   "execution_count": 24,
   "metadata": {},
   "outputs": [
    {
     "name": "stdout",
     "output_type": "stream",
     "text": [
      "Coefficients: \n",
      " [ 5.53100611e+04 -1.07536502e+04  1.00975991e+05 -1.61953671e+04\n",
      "  2.41526561e+03 -1.46421258e+03  2.35203538e+14  2.35203538e+14\n",
      "  2.35203538e+14  2.35203538e+14  2.35203538e+14 -1.97112742e+15\n",
      " -1.97112742e+15 -1.97112742e+15 -1.97112742e+15 -1.97112742e+15\n",
      " -1.97112742e+15 -1.97112742e+15 -1.66106716e+16 -1.66106716e+16\n",
      " -1.66106716e+16 -1.66106716e+16 -1.66106716e+16 -1.66106716e+16\n",
      " -1.66106716e+16 -1.66106716e+16]\n",
      "Intercept: \n",
      " 1.83465954807998e+16\n",
      "Mean squared error: 2126158.35\n",
      "Linear regression accuracy:  0.8684754650436121\n"
     ]
    }
   ],
   "source": [
    "print('Coefficients: \\n', regressor.coef_)\n",
    "print('Intercept: \\n', regressor.intercept_)\n",
    "print(\"Mean squared error: %.2f\" % mean_squared_error(validation_Y, prediction_Y))\n",
    "print('Linear regression accuracy: ', regressor.score(validation_X, validation_Y))"
   ]
  },
  {
   "cell_type": "code",
   "execution_count": 25,
   "metadata": {},
   "outputs": [
    {
     "data": {
      "image/png": "[encoded data removed]",
      "text/plain": [
       "<Figure size 432x288 with 1 Axes>"
      ]
     },
     "metadata": {},
     "output_type": "display_data"
    }
   ],
   "source": [
    "plt.scatter(training_X[:, 0:1], training_Y, color = 'gray')\n",
    "plt.scatter(validation_X[:, 0:1], validation_Y, color = 'black')\n",
    "plt.plot(validation_X[:, 0:1], prediction_Y, color = 'blue', linewidth = 1)\n",
    "\n",
    "plt.xticks()\n",
    "plt.yticks()\n",
    "\n",
    "plt.show()"
   ]
  },
  {
   "cell_type": "code",
   "execution_count": null,
   "metadata": {},
   "outputs": [],
   "source": []
  }
 ],
 "metadata": {
  "kernelspec": {
   "display_name": "Python 3",
   "language": "python",
   "name": "python3"
  },
  "language_info": {
   "codemirror_mode": {
    "name": "ipython",
    "version": 3
   },
   "file_extension": ".py",
   "mimetype": "text/x-python",
   "name": "python",
   "nbconvert_exporter": "python",
   "pygments_lexer": "ipython3",
   "version": "3.5.5"
  }
 },
 "nbformat": 4,
 "nbformat_minor": 2
}
